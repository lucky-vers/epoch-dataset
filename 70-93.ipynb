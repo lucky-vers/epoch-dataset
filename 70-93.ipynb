{
 "cells": [
  {
   "cell_type": "code",
   "execution_count": 53,
   "id": "initial_id",
   "metadata": {
    "collapsed": true,
    "ExecuteTime": {
     "end_time": "2024-02-14T18:44:31.624388100Z",
     "start_time": "2024-02-14T18:44:31.596402200Z"
    }
   },
   "outputs": [],
   "source": [
    "import pandas as pd"
   ]
  },
  {
   "cell_type": "code",
   "outputs": [
    {
     "data": {
      "text/plain": "0       0\n1       0\n2       0\n3       0\n4       0\n       ..\n1694    0\n1695    0\n1696    ?\n1697    0\n1698    0\nName: 0.52, Length: 1699, dtype: object"
     },
     "execution_count": 54,
     "metadata": {},
     "output_type": "execute_result"
    }
   ],
   "source": [
    "df = pd.read_csv('C:\\\\Users\\\\lenovo\\\\Downloads\\\\myocardial+infarction+complications\\\\MI.csv')\n",
    "df.iloc[:, 69]"
   ],
   "metadata": {
    "collapsed": false,
    "ExecuteTime": {
     "end_time": "2024-02-14T18:44:31.812877Z",
     "start_time": "2024-02-14T18:44:31.632381700Z"
    }
   },
   "id": "6b683eee8522ff4f",
   "execution_count": 54
  },
  {
   "cell_type": "code",
   "outputs": [
    {
     "ename": "SyntaxError",
     "evalue": "':' expected after dictionary key (3653782704.py, line 1)",
     "output_type": "error",
     "traceback": [
      "\u001B[1;36m  Cell \u001B[1;32mIn[2], line 1\u001B[1;36m\u001B[0m\n\u001B[1;33m    df['1.94'].map({'0':'no relapse','1':'only one','2':'two times','3':'three or more','?'})\u001B[0m\n\u001B[1;37m                                                                                          ^\u001B[0m\n\u001B[1;31mSyntaxError\u001B[0m\u001B[1;31m:\u001B[0m ':' expected after dictionary key\n"
     ]
    }
   ],
   "source": [
    "#editing rows 70-93\n",
    "\n",
    "df.iloc[:, 92] = df.iloc[:, 92].replace({'0':'There is no relapse', '1':'Only one', '2':'2 times', '3':'3 or more times', '?':'?'})\n",
    "df.iloc[:, 91] = df.iloc[:, 91].replace({'1': 'Less than 2 hours','2': '2-4 hours', '3': '4-6 hours','4': '6-8 hours', '5': '8-12 hours', '6': '12-24 hours', '7': 'More than 1 day', '8': 'More than 2 days', '9': 'More than 3 days', '?':'?'})\n",
    "df.iloc[:, 69:83] = df.iloc[:, 69:83].replace({'1':'True', '0':'False', '?':'?'})\n",
    "df.iloc[:, 84] = df.iloc[:, 84].replace({'1':'True', '0':'False', '?':'?'})\n",
    "\n",
    "\n",
    "df.iloc[:, 69:93] "
   ],
   "metadata": {
    "collapsed": false,
    "ExecuteTime": {
     "end_time": "2024-02-14T19:53:21.186741100Z",
     "start_time": "2024-02-14T19:53:21.157757500Z"
    }
   },
   "id": "b7ea624899d69fb3",
   "execution_count": 2
  }
 ],
 "metadata": {
  "kernelspec": {
   "display_name": "Python 3",
   "language": "python",
   "name": "python3"
  },
  "language_info": {
   "codemirror_mode": {
    "name": "ipython",
    "version": 2
   },
   "file_extension": ".py",
   "mimetype": "text/x-python",
   "name": "python",
   "nbconvert_exporter": "python",
   "pygments_lexer": "ipython2",
   "version": "2.7.6"
  }
 },
 "nbformat": 4,
 "nbformat_minor": 5
}
