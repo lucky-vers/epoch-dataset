{
 "cells": [
  {
   "cell_type": "code",
   "execution_count": 2,
   "id": "initial_id",
   "metadata": {
    "ExecuteTime": {
     "end_time": "2024-02-14T19:59:36.489528800Z",
     "start_time": "2024-02-14T19:59:34.655558700Z"
    }
   },
   "outputs": [],
   "source": [
    "import pandas as pd"
   ]
  },
  {
   "cell_type": "code",
   "execution_count": 3,
   "id": "6b683eee8522ff4f",
   "metadata": {
    "ExecuteTime": {
     "end_time": "2024-02-14T19:59:36.668926900Z",
     "start_time": "2024-02-14T19:59:36.490527600Z"
    },
    "collapsed": false,
    "jupyter": {
     "outputs_hidden": false
    }
   },
   "outputs": [
    {
     "data": {
      "text/plain": [
       "0       0\n",
       "1       0\n",
       "2       0\n",
       "3       0\n",
       "4       0\n",
       "       ..\n",
       "1694    0\n",
       "1695    0\n",
       "1696    ?\n",
       "1697    0\n",
       "1698    0\n",
       "Name: 0.52, Length: 1699, dtype: object"
      ]
     },
     "execution_count": 3,
     "metadata": {},
     "output_type": "execute_result"
    }
   ],
   "source": [
    "df = pd.read_csv('./MI.csv')\n",
    "df.iloc[:, 69]"
   ]
  },
  {
   "cell_type": "code",
   "execution_count": 9,
   "id": "b7ea624899d69fb3",
   "metadata": {
    "ExecuteTime": {
     "end_time": "2024-02-14T19:59:36.870841700Z",
     "start_time": "2024-02-14T19:59:36.670926600Z"
    },
    "collapsed": false,
    "jupyter": {
     "outputs_hidden": false
    }
   },
   "outputs": [
    {
     "name": "stdout",
     "output_type": "stream",
     "text": [
      "Unique values of 0.30: ['1' '0' '2' '3' '?' '4']\n",
      "Unique values of 0.31: ['0' '1' '3' '2' '4' '?']\n",
      "Unique values of 0.32: ['0' '2' '1' '3' '?' '4']\n",
      "Unique values of 0.33: ['0' '1' '?']\n",
      "Unique values of 0.34: ['1' '0' '?']\n",
      "Unique values of 0.35: ['0' '1' '?']\n",
      "Unique values of 0.36: ['0' '?' '1']\n",
      "Unique values of 0.37: ['0' '?' '1']\n",
      "Unique values of 1.5: ['0' '1' '?']\n",
      "Unique values of 0.38: ['0' '1' '?']\n",
      "Unique values of 0.39: ['0' '1' '?']\n",
      "Unique values of 0.40: ['0' '?' '1']\n",
      "Unique values of 0.41: ['0' '1' '?']\n",
      "Unique values of 0.42: ['1' '0' '?']\n",
      "Unique values of 1.6: ['0' '1' '?']\n",
      "Unique values of 0.43: ['0' '1' '?']\n",
      "Unique values of 0.44: ['0' '?' '1']\n",
      "Unique values of 0.45: ['0' '?' '1']\n",
      "Unique values of 0.46: ['0' '?' '1']\n",
      "Unique values of 0.47: ['0' '?' '1']\n",
      "Unique values of 0.48: ['0' '?' '1']\n",
      "Unique values of 0.49: ['0' '?' '1']\n",
      "Unique values of 0.50: ['0' '?' '1']\n",
      "Unique values of 0.51: ['0' '?' '1']\n",
      "Unique values of 0.52: ['False' 'True' '?']\n"
     ]
    }
   ],
   "source": [
    "#editing rows 70-93\n",
    "\n",
    "df.iloc[:, 92] = df.iloc[:, 92].replace({'0':'There is no relapse', '1':'Only one', '2':'2 times', '3':'3 or more times', '?':'?'})\n",
    "df.iloc[:, 91] = df.iloc[:, 91].replace({'1': 'Less than 2 hours','2': '2-4 hours', '3': '4-6 hours','4': '6-8 hours', '5': '8-12 hours', '6': '12-24 hours', '7': 'More than 1 day', '8': 'More than 2 days', '9': 'More than 3 days', '?':'?'})\n",
    "df.iloc[:, 69:83] = df.iloc[:, 69:83].replace({'1':'True', '0':'False', '?':'?'})\n",
    "df.iloc[:, 84] = df.iloc[:, 84].replace({'1':'True', '0':'False', '?':'?'})\n",
    "\n",
    "\n",
    "df.iloc[:, 69:93]"
   ]
  }
 ],
 "metadata": {
  "kernelspec": {
   "display_name": "Python 3 (ipykernel)",
   "language": "python",
   "name": "python3"
  },
  "language_info": {
   "codemirror_mode": {
    "name": "ipython",
    "version": 3
   },
   "file_extension": ".py",
   "mimetype": "text/x-python",
   "name": "python",
   "nbconvert_exporter": "python",
   "pygments_lexer": "ipython3",
   "version": "3.11.7"
  }
 },
 "nbformat": 4,
 "nbformat_minor": 5
}
