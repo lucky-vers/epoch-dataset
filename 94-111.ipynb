{
 "cells": [
  {
   "cell_type": "code",
   "execution_count": 53,
   "id": "initial_id",
   "metadata": {
    "collapsed": true,
    "ExecuteTime": {
     "end_time": "2024-02-14T18:44:31.624388100Z",
     "start_time": "2024-02-14T18:44:31.596402200Z"
    }
   },
   "outputs": [],
   "source": [
    "import pandas as pd"
   ]
  },
  {
   "cell_type": "code",
   "outputs": [],
   "source": [
    "df = pd.read_csv('./'MI.csv')\n"
   ],
   "metadata": {
    "collapsed": false,
    "ExecuteTime": {
     "end_time": "2024-02-14T18:44:31.856938100Z",
     "start_time": "2024-02-14T18:44:31.771629200Z"
    }
   },
   "id": "742af3b9dae2dc5d",
   "execution_count": 54
  },
  {
   "cell_type": "code",
   "outputs": [
    {
     "data": {
      "text/plain": "       0.52    1.7   0.53   0.54   0.55   0.56   0.57   0.58   0.59   0.60  \\\n0     False  False  False  False  False  False  False  False  False  False   \n1     False  False  False  False  False  False  False  False  False  False   \n2     False  False  False  False  False  False  False  False  False  False   \n3     False  False  False  False  False  False  False  False  False  False   \n4     False  False  False  False  False  False  False  False  False  False   \n...     ...    ...    ...    ...    ...    ...    ...    ...    ...    ...   \n1694  False  False  False  False  False   True  False  False  False  False   \n1695  False  False  False  False  False  False  False  False  False  False   \n1696      ?      ?      ?      ?      ?      ?  False  False  False  False   \n1697  False  False  False  False  False  False  False  False  False  False   \n1698  False  False  False  False  False  False  False  False  False  False   \n\n      ...  4.7   0.65  138   ?.3   ?.4 ?.5     8  16                  4  \\\n0     ...  3.5  False  132  0.38  0.18   ?   7.8   3          2-4 hours   \n1     ...    4  False  132   0.3  0.11   ?  10.8   ?          4-6 hours   \n2     ...  3.9  False  146  0.75  0.37   ?     ?   ?          2-4 hours   \n3     ...  3.5  False  132  0.45  0.22   ?   8.3   ?   More than 3 days   \n4     ...    ?      ?    ?  0.45  0.22   ?   7.2   2          2-4 hours   \n...   ...  ...    ...  ...   ...   ...  ..   ...  ..                ...   \n1694  ...  3.7  False  130  1.05  0.52   ?  12.8   6          2-4 hours   \n1695  ...    ?      ?    ?     ?     ?   ?     ?   ?          2-4 hours   \n1696  ...    ?      ?    ?  0.23  0.15   ?   8.3  13  Less than 2 hours   \n1697  ...  3.1  False  136  0.45  0.45   ?   7.5   4          2-4 hours   \n1698  ...    ?      ?    ?     ?     ?   ?     ?   ?  Less than 2 hours   \n\n                     0.66  \n0     There is no relapse  \n1         3 or more times  \n2     There is no relapse  \n3     There is no relapse  \n4     There is no relapse  \n...                   ...  \n1694  There is no relapse  \n1695  There is no relapse  \n1696              2 times  \n1697             Only one  \n1698  There is no relapse  \n\n[1699 rows x 24 columns]",
      "text/html": "<div>\n<style scoped>\n    .dataframe tbody tr th:only-of-type {\n        vertical-align: middle;\n    }\n\n    .dataframe tbody tr th {\n        vertical-align: top;\n    }\n\n    .dataframe thead th {\n        text-align: right;\n    }\n</style>\n<table border=\"1\" class=\"dataframe\">\n  <thead>\n    <tr style=\"text-align: right;\">\n      <th></th>\n      <th>0.52</th>\n      <th>1.7</th>\n      <th>0.53</th>\n      <th>0.54</th>\n      <th>0.55</th>\n      <th>0.56</th>\n      <th>0.57</th>\n      <th>0.58</th>\n      <th>0.59</th>\n      <th>0.60</th>\n      <th>...</th>\n      <th>4.7</th>\n      <th>0.65</th>\n      <th>138</th>\n      <th>?.3</th>\n      <th>?.4</th>\n      <th>?.5</th>\n      <th>8</th>\n      <th>16</th>\n      <th>4</th>\n      <th>0.66</th>\n    </tr>\n  </thead>\n  <tbody>\n    <tr>\n      <th>0</th>\n      <td>False</td>\n      <td>False</td>\n      <td>False</td>\n      <td>False</td>\n      <td>False</td>\n      <td>False</td>\n      <td>False</td>\n      <td>False</td>\n      <td>False</td>\n      <td>False</td>\n      <td>...</td>\n      <td>3.5</td>\n      <td>False</td>\n      <td>132</td>\n      <td>0.38</td>\n      <td>0.18</td>\n      <td>?</td>\n      <td>7.8</td>\n      <td>3</td>\n      <td>2-4 hours</td>\n      <td>There is no relapse</td>\n    </tr>\n    <tr>\n      <th>1</th>\n      <td>False</td>\n      <td>False</td>\n      <td>False</td>\n      <td>False</td>\n      <td>False</td>\n      <td>False</td>\n      <td>False</td>\n      <td>False</td>\n      <td>False</td>\n      <td>False</td>\n      <td>...</td>\n      <td>4</td>\n      <td>False</td>\n      <td>132</td>\n      <td>0.3</td>\n      <td>0.11</td>\n      <td>?</td>\n      <td>10.8</td>\n      <td>?</td>\n      <td>4-6 hours</td>\n      <td>3 or more times</td>\n    </tr>\n    <tr>\n      <th>2</th>\n      <td>False</td>\n      <td>False</td>\n      <td>False</td>\n      <td>False</td>\n      <td>False</td>\n      <td>False</td>\n      <td>False</td>\n      <td>False</td>\n      <td>False</td>\n      <td>False</td>\n      <td>...</td>\n      <td>3.9</td>\n      <td>False</td>\n      <td>146</td>\n      <td>0.75</td>\n      <td>0.37</td>\n      <td>?</td>\n      <td>?</td>\n      <td>?</td>\n      <td>2-4 hours</td>\n      <td>There is no relapse</td>\n    </tr>\n    <tr>\n      <th>3</th>\n      <td>False</td>\n      <td>False</td>\n      <td>False</td>\n      <td>False</td>\n      <td>False</td>\n      <td>False</td>\n      <td>False</td>\n      <td>False</td>\n      <td>False</td>\n      <td>False</td>\n      <td>...</td>\n      <td>3.5</td>\n      <td>False</td>\n      <td>132</td>\n      <td>0.45</td>\n      <td>0.22</td>\n      <td>?</td>\n      <td>8.3</td>\n      <td>?</td>\n      <td>More than 3 days</td>\n      <td>There is no relapse</td>\n    </tr>\n    <tr>\n      <th>4</th>\n      <td>False</td>\n      <td>False</td>\n      <td>False</td>\n      <td>False</td>\n      <td>False</td>\n      <td>False</td>\n      <td>False</td>\n      <td>False</td>\n      <td>False</td>\n      <td>False</td>\n      <td>...</td>\n      <td>?</td>\n      <td>?</td>\n      <td>?</td>\n      <td>0.45</td>\n      <td>0.22</td>\n      <td>?</td>\n      <td>7.2</td>\n      <td>2</td>\n      <td>2-4 hours</td>\n      <td>There is no relapse</td>\n    </tr>\n    <tr>\n      <th>...</th>\n      <td>...</td>\n      <td>...</td>\n      <td>...</td>\n      <td>...</td>\n      <td>...</td>\n      <td>...</td>\n      <td>...</td>\n      <td>...</td>\n      <td>...</td>\n      <td>...</td>\n      <td>...</td>\n      <td>...</td>\n      <td>...</td>\n      <td>...</td>\n      <td>...</td>\n      <td>...</td>\n      <td>...</td>\n      <td>...</td>\n      <td>...</td>\n      <td>...</td>\n      <td>...</td>\n    </tr>\n    <tr>\n      <th>1694</th>\n      <td>False</td>\n      <td>False</td>\n      <td>False</td>\n      <td>False</td>\n      <td>False</td>\n      <td>True</td>\n      <td>False</td>\n      <td>False</td>\n      <td>False</td>\n      <td>False</td>\n      <td>...</td>\n      <td>3.7</td>\n      <td>False</td>\n      <td>130</td>\n      <td>1.05</td>\n      <td>0.52</td>\n      <td>?</td>\n      <td>12.8</td>\n      <td>6</td>\n      <td>2-4 hours</td>\n      <td>There is no relapse</td>\n    </tr>\n    <tr>\n      <th>1695</th>\n      <td>False</td>\n      <td>False</td>\n      <td>False</td>\n      <td>False</td>\n      <td>False</td>\n      <td>False</td>\n      <td>False</td>\n      <td>False</td>\n      <td>False</td>\n      <td>False</td>\n      <td>...</td>\n      <td>?</td>\n      <td>?</td>\n      <td>?</td>\n      <td>?</td>\n      <td>?</td>\n      <td>?</td>\n      <td>?</td>\n      <td>?</td>\n      <td>2-4 hours</td>\n      <td>There is no relapse</td>\n    </tr>\n    <tr>\n      <th>1696</th>\n      <td>?</td>\n      <td>?</td>\n      <td>?</td>\n      <td>?</td>\n      <td>?</td>\n      <td>?</td>\n      <td>False</td>\n      <td>False</td>\n      <td>False</td>\n      <td>False</td>\n      <td>...</td>\n      <td>?</td>\n      <td>?</td>\n      <td>?</td>\n      <td>0.23</td>\n      <td>0.15</td>\n      <td>?</td>\n      <td>8.3</td>\n      <td>13</td>\n      <td>Less than 2 hours</td>\n      <td>2 times</td>\n    </tr>\n    <tr>\n      <th>1697</th>\n      <td>False</td>\n      <td>False</td>\n      <td>False</td>\n      <td>False</td>\n      <td>False</td>\n      <td>False</td>\n      <td>False</td>\n      <td>False</td>\n      <td>False</td>\n      <td>False</td>\n      <td>...</td>\n      <td>3.1</td>\n      <td>False</td>\n      <td>136</td>\n      <td>0.45</td>\n      <td>0.45</td>\n      <td>?</td>\n      <td>7.5</td>\n      <td>4</td>\n      <td>2-4 hours</td>\n      <td>Only one</td>\n    </tr>\n    <tr>\n      <th>1698</th>\n      <td>False</td>\n      <td>False</td>\n      <td>False</td>\n      <td>False</td>\n      <td>False</td>\n      <td>False</td>\n      <td>False</td>\n      <td>False</td>\n      <td>False</td>\n      <td>False</td>\n      <td>...</td>\n      <td>?</td>\n      <td>?</td>\n      <td>?</td>\n      <td>?</td>\n      <td>?</td>\n      <td>?</td>\n      <td>?</td>\n      <td>?</td>\n      <td>Less than 2 hours</td>\n      <td>There is no relapse</td>\n    </tr>\n  </tbody>\n</table>\n<p>1699 rows × 24 columns</p>\n</div>"
     },
     "execution_count": 57,
     "metadata": {},
     "output_type": "execute_result"
    }
   ],
   "source": [
    "#editing rows 94-111\n",
    "\n",
    "df.iloc[:,94].map({'0':'no relapse','1':'only one','2':'two times','3':'three or more','?':'?'})\n",
    "df.iloc[:,95].map({'0':'no relapse','1':'only one','2':'two times','3':'three or more','?':'?'})\n",
    "df.iloc[:,96].map({'0':'no','1':'yes','?':'?'})\n",
    "df.iloc[:,97].map({'0':'no','1':'yes','?':'?'})\n",
    "df.iloc[:,98].map({'0':'no','1':'yes','?':'?'})\n",
    "df.iloc[:,99].map({'0':'no','1':'yes','?':'?'})\n",
    "df.iloc[:,100].map({'0':'no','1':'once','2':'twice','3':'thrice','4':'four times','?':'?'})\n",
    "df.iloc[:,101].map({'0':'no','1':'once','2':'twice','3':'thrice','?':'?'})\n",
    "df.iloc[:,102].map({'0':'no','1':'once','2':'twice','?':'?'})\n",
    "df.iloc[:,103].map({'0':'no','1':'once','2':'twice','3':'thrice','4':'four or more times','?':'?'})\n",
    "df.iloc[:,104].map({'0':'no','1':'once','2':'twice','3':'thrice','?':'?'})\n",
    "df.iloc[:,105].map({'0':'no','1':'once','2':'twice','?':'?'})\n",
    "df.iloc[:,106].map({'0':'no','1':'yes','?':'?'})\n",
    "df.iloc[:,107].map({'0':'no','1':'yes','?':'?'})\n",
    "df.iloc[:,108].map({'0':'no','1':'yes','?':'?'})\n",
    "df.iloc[:,109].map({'0':'no','1':'yes','?':'?'})\n",
    "df.iloc[:,110].map({'0':'no','1':'yes','?':'?'})\n",
    "df.iloc[:,111].map({'0':'no','1':'yes','?':'?'})"
   ],
   "metadata": {
    "collapsed": false,
    "ExecuteTime": {
     "end_time": "2024-02-14T18:49:45.521753700Z",
     "start_time": "2024-02-14T18:49:45.335627800Z"
    }
   },
   "id": "554cec1ed4a75cf8",
   "execution_count": 57
  },
  {
   "cell_type": "code",
   "outputs": [],
   "source": [],
   "metadata": {
    "collapsed": false,
    "ExecuteTime": {
     "end_time": "2024-02-14T18:44:32.014016400Z",
     "start_time": "2024-02-14T18:44:31.965826100Z"
    }
   },
   "id": "cf9f6cda30102221",
   "execution_count": 55
  },
  {
   "cell_type": "code",
   "outputs": [],
   "source": [],
   "metadata": {
    "collapsed": false,
    "ExecuteTime": {
     "end_time": "2024-02-14T18:44:32.016016400Z",
     "start_time": "2024-02-14T18:44:31.989431500Z"
    }
   },
   "id": "b7ea624899d69fb3",
   "execution_count": 55
  }
 ],
 "metadata": {
  "kernelspec": {
   "display_name": "Python 3",
   "language": "python",
   "name": "python3"
  },
  "language_info": {
   "codemirror_mode": {
    "name": "ipython",
    "version": 2
   },
   "file_extension": ".py",
   "mimetype": "text/x-python",
   "name": "python",
   "nbconvert_exporter": "python",
   "pygments_lexer": "ipython2",
   "version": "2.7.6"
  }
 },
 "nbformat": 4,
 "nbformat_minor": 5
}
